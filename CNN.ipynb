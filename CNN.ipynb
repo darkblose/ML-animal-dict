{
  "nbformat": 4,
  "nbformat_minor": 0,
  "metadata": {
    "kernelspec": {
      "display_name": "Python 3",
      "language": "python",
      "name": "python3"
    },
    "language_info": {
      "codemirror_mode": {
        "name": "ipython",
        "version": 3
      },
      "file_extension": ".py",
      "mimetype": "text/x-python",
      "name": "python",
      "nbconvert_exporter": "python",
      "pygments_lexer": "ipython3",
      "version": "3.6.5"
    },
    "colab": {
      "name": "CNN.ipynb",
      "provenance": [],
      "collapsed_sections": []
    },
    "accelerator": "GPU"
  },
  "cells": [
    {
      "cell_type": "code",
      "metadata": {
        "id": "EGJgRHXv2fGT"
      },
      "source": [
        ""
      ],
      "execution_count": null,
      "outputs": []
    },
    {
      "cell_type": "code",
      "metadata": {
        "id": "-UjvuRXhdNcm",
        "colab": {
          "base_uri": "https://localhost:8080/",
          "height": 34
        },
        "outputId": "e2dfc874-93f5-43f8-c3d8-279baf8b9bf4"
      },
      "source": [
        "from google.colab import drive\n",
        "drive.mount('/content/drive')"
      ],
      "execution_count": null,
      "outputs": [
        {
          "output_type": "stream",
          "text": [
            "Drive already mounted at /content/drive; to attempt to forcibly remount, call drive.mount(\"/content/drive\", force_remount=True).\n"
          ],
          "name": "stdout"
        }
      ]
    },
    {
      "cell_type": "code",
      "metadata": {
        "id": "QxZHERbEcx99",
        "colab": {
          "base_uri": "https://localhost:8080/",
          "height": 1000
        },
        "outputId": "1b8d77a6-1a85-4d72-928e-16934a0f7669"
      },
      "source": [
        "from PIL import Image\n",
        "import os, glob, numpy as np\n",
        "from sklearn.model_selection import train_test_split\n",
        "\n",
        "caltech_dir = \"/content/drive/My Drive/Colab Notebooks/dataset/all\"\n",
        "categories = [\"AFRICAN FIREFINCH\", \"ALBATROSS\", \"ALEXANDRINE PARAKEET\", \"ALOUATTAPALLIATA\", \"AMERICAN AVOCET\", \"AMERICAN BITTERN\", \"AOTUSNIGRICEPS\", \"ASIAN CRESTED IBIS\", \"BLACK SWAN\", \"BLACK THROATED WARBLER\", \"BLACK VULTURE\", \"BLACK-CAPPED CHICKADEE\", \"BLACK-THROATED SPARROW\", \"BLUE HERON\", \"BROWN THRASHER\", \"CACAJAOCALVUS\", \"CEBUELLAPYGMEA\", \"CEBUSCAPUCINUS\", \"COCK OF THE ROCK\", \"COMMON GRACKLE\", \"COMMON STARLING\", \"COUCHS KINGBIRD\", \"ERYTHROCEBUSPATAS\", \"FLAMINGO\", \"FRIGATE\", \"GAMBELS QUAIL\", \"GOLD WING WARBLER\", \"MACACAFUSCATA\", \"MICOARGENTATUS\", \"PERSIAN CAT\", \"RUSSIAN BLUE\", \"SAIMIRISCIUREUS\", \"SPHYNX CAT\", \"TRACHYPITHECUSJOHNII\"]\n",
        "nb_classes = len(categories)\n",
        "\n",
        "image_w = 32\n",
        "image_h = 32\n",
        "\n",
        "pixels = image_h * image_w * 3\n",
        "\n",
        "X = []\n",
        "y = []\n",
        "\n",
        "for idx, cat in enumerate(categories):\n",
        "    \n",
        "    #one-hot 돌리기.\n",
        "    label = [0 for i in range(nb_classes)]\n",
        "    label[idx] = 1\n",
        "\n",
        "    image_dir = caltech_dir + \"/\" + cat\n",
        "    files = glob.glob(image_dir+\"/*.*\")\n",
        "    img_num = 0\n",
        "    for i, f in enumerate(files):\n",
        "        img = Image.open(f)\n",
        "        img = img.convert(\"RGB\")\n",
        "        img = img.resize((image_w, image_h))\n",
        "        data = np.asarray(img)\n",
        "\n",
        "        X.append(data)\n",
        "        y.append(label)\n",
        "\n",
        "        if i % 3000 == 0:\n",
        "            print(cat, \" : \", f)\n",
        "        img_num += 1\n",
        "        if i >= 6000: break\n",
        "    print(cat, \" 이미지 개수 : \", img_num)\n",
        "print(\"전체 이미지 개수 : \", len(X))\n",
        "\n",
        "X = np.array(X)\n",
        "y = np.array(y)\n",
        "#1 0 0 0 이면 airplanes\n",
        "#0 1 0 0 이면 buddha 이런식\n",
        "\n",
        "\n",
        "X_train, X_test, y_train, y_test = train_test_split(X, y)\n",
        "xy = (X_train, X_test, y_train, y_test)\n",
        "np.save(\"/content/drive/My Drive/Colab Notebooks/numpy_data/multi_image_data2.npy\", xy)\n",
        "\n",
        "print(\"ok\", len(y))\n"
      ],
      "execution_count": null,
      "outputs": [
        {
          "output_type": "stream",
          "text": [
            "AFRICAN FIREFINCH  :  /content/drive/My Drive/Colab Notebooks/dataset/all/AFRICAN FIREFINCH/AFRICAN FIREFINCH_67_8839311.jpeg\n",
            "AFRICAN FIREFINCH  :  /content/drive/My Drive/Colab Notebooks/dataset/all/AFRICAN FIREFINCH/AFRICAN FIREFINCH_42_8581265.jpeg\n",
            "AFRICAN FIREFINCH  :  /content/drive/My Drive/Colab Notebooks/dataset/all/AFRICAN FIREFINCH/AFRICAN FIREFINCH_6_4507445.jpeg\n",
            "AFRICAN FIREFINCH  이미지 개수 :  6001\n",
            "전체 이미지 개수 :  6001\n",
            "ALBATROSS  :  /content/drive/My Drive/Colab Notebooks/dataset/all/ALBATROSS/ALBATROSS_117_9734984.jpeg\n",
            "ALBATROSS  :  /content/drive/My Drive/Colab Notebooks/dataset/all/ALBATROSS/ALBATROSS_15_2366986.jpeg\n",
            "ALBATROSS  :  /content/drive/My Drive/Colab Notebooks/dataset/all/ALBATROSS/ALBATROSS_37_2763901.jpeg\n",
            "ALBATROSS  이미지 개수 :  6001\n",
            "전체 이미지 개수 :  12002\n",
            "ALEXANDRINE PARAKEET  이미지 개수 :  0\n",
            "전체 이미지 개수 :  12002\n",
            "ALOUATTAPALLIATA  :  /content/drive/My Drive/Colab Notebooks/dataset/all/ALOUATTAPALLIATA/alouattapalliata_4_4677130.jpeg\n",
            "ALOUATTAPALLIATA  :  /content/drive/My Drive/Colab Notebooks/dataset/all/ALOUATTAPALLIATA/alouattapalliata_47_6355333.jpeg\n",
            "ALOUATTAPALLIATA  이미지 개수 :  5355\n",
            "전체 이미지 개수 :  17357\n",
            "AMERICAN AVOCET  이미지 개수 :  0\n",
            "전체 이미지 개수 :  17357\n",
            "AMERICAN BITTERN  :  /content/drive/My Drive/Colab Notebooks/dataset/all/AMERICAN BITTERN/AMERICAN BITTERN_2_5923126.jpeg\n",
            "AMERICAN BITTERN  :  /content/drive/My Drive/Colab Notebooks/dataset/all/AMERICAN BITTERN/AMERICAN BITTERN_131_5752913.jpeg\n",
            "AMERICAN BITTERN  :  /content/drive/My Drive/Colab Notebooks/dataset/all/AMERICAN BITTERN/AMERICAN BITTERN_152_8971969.jpeg\n",
            "AMERICAN BITTERN  이미지 개수 :  6001\n",
            "전체 이미지 개수 :  23358\n",
            "AOTUSNIGRICEPS  :  /content/drive/My Drive/Colab Notebooks/dataset/all/AOTUSNIGRICEPS/aotusnigriceps_88_5060664.jpeg\n",
            "AOTUSNIGRICEPS  :  /content/drive/My Drive/Colab Notebooks/dataset/all/AOTUSNIGRICEPS/aotusnigriceps_62_2368439.jpeg\n",
            "AOTUSNIGRICEPS  이미지 개수 :  5406\n",
            "전체 이미지 개수 :  28764\n",
            "ASIAN CRESTED IBIS  :  /content/drive/My Drive/Colab Notebooks/dataset/all/ASIAN CRESTED IBIS/ASIAN CRESTED IBIS_1_7415154.jpeg\n",
            "ASIAN CRESTED IBIS  :  /content/drive/My Drive/Colab Notebooks/dataset/all/ASIAN CRESTED IBIS/ASIAN CRESTED IBIS_89_8594439.jpeg\n",
            "ASIAN CRESTED IBIS  이미지 개수 :  4575\n",
            "전체 이미지 개수 :  33339\n",
            "BLACK SWAN  :  /content/drive/My Drive/Colab Notebooks/dataset/all/BLACK SWAN/BLACK SWAN_7_440641.jpeg\n",
            "BLACK SWAN  :  /content/drive/My Drive/Colab Notebooks/dataset/all/BLACK SWAN/BLACK SWAN_101_6775899.jpeg\n",
            "BLACK SWAN  이미지 개수 :  5712\n",
            "전체 이미지 개수 :  39051\n",
            "BLACK THROATED WARBLER  :  /content/drive/My Drive/Colab Notebooks/dataset/all/BLACK THROATED WARBLER/BLACK THROATED WARBLER_76_3211073.jpeg\n",
            "BLACK THROATED WARBLER  :  /content/drive/My Drive/Colab Notebooks/dataset/all/BLACK THROATED WARBLER/BLACK THROATED WARBLER_116_8287572.jpeg\n",
            "BLACK THROATED WARBLER  :  /content/drive/My Drive/Colab Notebooks/dataset/all/BLACK THROATED WARBLER/BLACK THROATED WARBLER_76_4923154.jpeg\n",
            "BLACK THROATED WARBLER  이미지 개수 :  6001\n",
            "전체 이미지 개수 :  45052\n",
            "BLACK VULTURE  :  /content/drive/My Drive/Colab Notebooks/dataset/all/BLACK VULTURE/BLACK VULTURE_25_1573461.jpeg\n",
            "BLACK VULTURE  :  /content/drive/My Drive/Colab Notebooks/dataset/all/BLACK VULTURE/BLACK VULTURE_30_7270039.jpeg\n",
            "BLACK VULTURE  :  /content/drive/My Drive/Colab Notebooks/dataset/all/BLACK VULTURE/BLACK VULTURE_78_5977176.jpeg\n",
            "BLACK VULTURE  이미지 개수 :  6001\n",
            "전체 이미지 개수 :  51053\n",
            "BLACK-CAPPED CHICKADEE  :  /content/drive/My Drive/Colab Notebooks/dataset/all/BLACK-CAPPED CHICKADEE/BLACK-CAPPED CHICKADEE_15_9247272.jpeg\n",
            "BLACK-CAPPED CHICKADEE  :  /content/drive/My Drive/Colab Notebooks/dataset/all/BLACK-CAPPED CHICKADEE/BLACK-CAPPED CHICKADEE_77_372518.jpeg\n",
            "BLACK-CAPPED CHICKADEE  :  /content/drive/My Drive/Colab Notebooks/dataset/all/BLACK-CAPPED CHICKADEE/BLACK-CAPPED CHICKADEE_39_4716974.jpeg\n",
            "BLACK-CAPPED CHICKADEE  이미지 개수 :  6001\n",
            "전체 이미지 개수 :  57054\n",
            "BLACK-THROATED SPARROW  이미지 개수 :  0\n",
            "전체 이미지 개수 :  57054\n",
            "BLUE HERON  :  /content/drive/My Drive/Colab Notebooks/dataset/all/BLUE HERON/BLUE HERON_1_1365786.jpeg\n",
            "BLUE HERON  :  /content/drive/My Drive/Colab Notebooks/dataset/all/BLUE HERON/BLUE HERON_36_1286007.jpeg\n",
            "BLUE HERON  이미지 개수 :  4888\n",
            "전체 이미지 개수 :  61942\n",
            "BROWN THRASHER  :  /content/drive/My Drive/Colab Notebooks/dataset/all/BROWN THRASHER/BROWN THRASHER_25_7933527.jpeg\n",
            "BROWN THRASHER  :  /content/drive/My Drive/Colab Notebooks/dataset/all/BROWN THRASHER/BROWN THRASHER_84_298624.jpeg\n",
            "BROWN THRASHER  이미지 개수 :  5049\n",
            "전체 이미지 개수 :  66991\n",
            "CACAJAOCALVUS  :  /content/drive/My Drive/Colab Notebooks/dataset/all/CACAJAOCALVUS/cacajaocalvus_36_4413073.jpeg\n",
            "CACAJAOCALVUS  :  /content/drive/My Drive/Colab Notebooks/dataset/all/CACAJAOCALVUS/cacajaocalvus_43_6142275.jpeg\n",
            "CACAJAOCALVUS  이미지 개수 :  5610\n",
            "전체 이미지 개수 :  72601\n",
            "CEBUELLAPYGMEA  :  /content/drive/My Drive/Colab Notebooks/dataset/all/CEBUELLAPYGMEA/cebuellapygmea_89_881884.jpeg\n",
            "CEBUELLAPYGMEA  :  /content/drive/My Drive/Colab Notebooks/dataset/all/CEBUELLAPYGMEA/cebuellapygmea_27_8096456.jpeg\n",
            "CEBUELLAPYGMEA  이미지 개수 :  5355\n",
            "전체 이미지 개수 :  77956\n",
            "CEBUSCAPUCINUS  :  /content/drive/My Drive/Colab Notebooks/dataset/all/CEBUSCAPUCINUS/cebuscapucinus_62_5558991.jpeg\n",
            "CEBUSCAPUCINUS  :  /content/drive/My Drive/Colab Notebooks/dataset/all/CEBUSCAPUCINUS/cebuscapucinus_91_8617019.jpeg\n",
            "CEBUSCAPUCINUS  이미지 개수 :  5763\n",
            "전체 이미지 개수 :  83719\n",
            "COCK OF THE ROCK  이미지 개수 :  0\n",
            "전체 이미지 개수 :  83719\n",
            "COMMON GRACKLE  이미지 개수 :  0\n",
            "전체 이미지 개수 :  83719\n",
            "COMMON STARLING  :  /content/drive/My Drive/Colab Notebooks/dataset/all/COMMON STARLING/COMMON STARLING_117_5802455.jpeg\n",
            "COMMON STARLING  이미지 개수 :  1833\n",
            "전체 이미지 개수 :  85552\n",
            "COUCHS KINGBIRD  이미지 개수 :  0\n",
            "전체 이미지 개수 :  85552\n",
            "ERYTHROCEBUSPATAS  :  /content/drive/My Drive/Colab Notebooks/dataset/all/ERYTHROCEBUSPATAS/erythrocebuspatas_83_2049458.jpeg\n",
            "ERYTHROCEBUSPATAS  :  /content/drive/My Drive/Colab Notebooks/dataset/all/ERYTHROCEBUSPATAS/erythrocebuspatas_45_423134.jpeg\n",
            "ERYTHROCEBUSPATAS  이미지 개수 :  5661\n",
            "전체 이미지 개수 :  91213\n",
            "FLAMINGO  이미지 개수 :  0\n",
            "전체 이미지 개수 :  91213\n",
            "FRIGATE  이미지 개수 :  0\n",
            "전체 이미지 개수 :  91213\n",
            "GAMBELS QUAIL  이미지 개수 :  0\n",
            "전체 이미지 개수 :  91213\n",
            "GOLD WING WARBLER  이미지 개수 :  0\n",
            "전체 이미지 개수 :  91213\n",
            "MACACAFUSCATA  :  /content/drive/My Drive/Colab Notebooks/dataset/all/MACACAFUSCATA/macacafuscata_66_9347032.jpeg\n",
            "MACACAFUSCATA  :  /content/drive/My Drive/Colab Notebooks/dataset/all/MACACAFUSCATA/macacafuscata_76_8847893.jpeg\n",
            "MACACAFUSCATA  :  /content/drive/My Drive/Colab Notebooks/dataset/all/MACACAFUSCATA/macacafuscata_43_8332709.jpeg\n",
            "MACACAFUSCATA  이미지 개수 :  6001\n",
            "전체 이미지 개수 :  97214\n",
            "MICOARGENTATUS  :  /content/drive/My Drive/Colab Notebooks/dataset/all/MICOARGENTATUS/micoargentatus_7_1178678.jpeg\n",
            "MICOARGENTATUS  :  /content/drive/My Drive/Colab Notebooks/dataset/all/MICOARGENTATUS/micoargentatus_86_9022098.jpeg\n",
            "MICOARGENTATUS  이미지 개수 :  5406\n",
            "전체 이미지 개수 :  102620\n",
            "PERSIAN CAT  :  /content/drive/My Drive/Colab Notebooks/dataset/all/PERSIAN CAT/persian cat_11_5133559.jpeg\n",
            "PERSIAN CAT  이미지 개수 :  2156\n",
            "전체 이미지 개수 :  104776\n",
            "RUSSIAN BLUE  :  /content/drive/My Drive/Colab Notebooks/dataset/all/RUSSIAN BLUE/russian blue_47_1496168.jpeg\n",
            "RUSSIAN BLUE  이미지 개수 :  2255\n",
            "전체 이미지 개수 :  107031\n",
            "SAIMIRISCIUREUS  :  /content/drive/My Drive/Colab Notebooks/dataset/all/SAIMIRISCIUREUS/saimirisciureus_79_4887387.jpeg\n"
          ],
          "name": "stdout"
        }
      ]
    },
    {
      "cell_type": "code",
      "metadata": {
        "id": "pK9g4bSjcx-A",
        "colab": {
          "base_uri": "https://localhost:8080/",
          "height": 53
        },
        "outputId": "e8b2bbf4-f0b8-4cf1-9105-4edeb63a5a88"
      },
      "source": [
        "import os, glob, numpy as np\n",
        "from keras.models import Sequential\n",
        "from keras.layers import Conv2D, MaxPooling2D, Dense, Flatten, Dropout\n",
        "from keras.callbacks import EarlyStopping, ModelCheckpoint\n",
        "import matplotlib.pyplot as plt\n",
        "import tensorflow as tf\n",
        "import keras.backend as K\n",
        "\n",
        "config = tf.compat.v1.ConfigProto()\n",
        "config.gpu_options.allow_growth = True\n",
        "session = tf.compat.v1.Session(config=config)\n",
        "\n",
        "X_train, X_test, y_train, y_test = np.load('/content/drive/My Drive/Colab Notebooks/numpy_data/multi_image_data.npy', allow_pickle=True)\n",
        "print(X_train.shape)\n",
        "print(X_train.shape[0])"
      ],
      "execution_count": null,
      "outputs": [
        {
          "output_type": "stream",
          "text": [
            "(23487, 32, 32, 3)\n",
            "23487\n"
          ],
          "name": "stdout"
        }
      ]
    },
    {
      "cell_type": "code",
      "metadata": {
        "id": "F9eFz5G9cx-C"
      },
      "source": [
        "categories = [\"AFRICAN FIREFINCH\", \"ALBATROSS\", \"ALEXANDRINE PARAKEET\", \"ALOUATTAPALLIATA\", \"AMERICAN AVOCET\", \"AMERICAN BITTERN\", \"AOTUSNIGRICEPS\", \"ASIAN CRESTED IBIS\", \"BLACK SWAN\", \"BLACK THROATED WARBLER\", \"BLACK VULTURE\", \"BLACK-CAPPED CHICKADEE\", \"BLACK-THROATED SPARROW\", \"BLUE HERON\", \"BROWN THRASHER\", \"CACAJAOCALVUS\", \"CEBUELLAPYGMEA\", \"CEBUSCAPUCINUS\", \"COCK OF THE ROCK\", \"COMMON GRACKLE\", \"COMMON STARLING\", \"COUCHS KINGBIRD\", \"ERYTHROCEBUSPATAS\", \"FLAMINGO\", \"FRIGATE\", \"GAMBELS QUAIL\", \"GOLD WING WARBLER\", \"MACACAFUSCATA\", \"MICOARGENTATUS\", \"PERSIAN CAT\", \"RUSSIAN BLUE\", \"SAIMIRISCIUREUS\", \"SPHYNX CAT\", \"TRACHYPITHECUSJOHNII\" ]\n",
        "nb_classes = len(categories)\n",
        "\n",
        "#일반화\n",
        "X_train = X_train.astype(float) / 255\n",
        "X_test = X_test.astype(float) / 255"
      ],
      "execution_count": null,
      "outputs": []
    },
    {
      "cell_type": "code",
      "metadata": {
        "id": "7CiePA26cx-E"
      },
      "source": [
        "#with K.tf.device('/device:GPU:0'):\n",
        "model = Sequential()\n",
        "model.add(Conv2D(32, (3,3), padding=\"same\", activation='relu', input_shape=X_train.shape[1:]))\n",
        "model.add(MaxPooling2D(pool_size=(2,2)))\n",
        "model.add(Dropout(0.25))\n",
        "    \n",
        "model.add(Conv2D(64, (3,3), padding=\"same\", activation='relu'))\n",
        "model.add(MaxPooling2D(pool_size=(2,2)))\n",
        "model.add(Dropout(0.25))\n",
        "\n",
        "model.add(Conv2D(128, (3,3), padding='same', activation='relu'))\n",
        "model.add(Conv2D(128, (3,3), padding='same', activation='relu'))\n",
        "model.add(MaxPooling2D(pool_size=(2,2)))\n",
        "model.add(Dropout(0.25))\n",
        "\n",
        "model.add(Flatten())\n",
        "model.add(Dense(256, activation='relu'))\n",
        "model.add(Dropout(0.5))\n",
        "model.add(Dense(nb_classes, activation='softmax'))\n",
        "model.compile(loss='categorical_crossentropy', optimizer='adam', metrics=['accuracy'])\n",
        "model_dir = './model'\n",
        "    \n",
        "if not os.path.exists(model_dir):\n",
        "  os.mkdir(model_dir)\n",
        "  \n",
        "  model_path = model_dir + '/multi_img_classification.model'\n",
        "  checkpoint = ModelCheckpoint(filepath=model_path , monitor='val_loss', verbose=1, save_best_only=True)\n",
        "  early_stopping = EarlyStopping(monitor='val_loss', patience=6)\n",
        "    \n",
        "    "
      ],
      "execution_count": null,
      "outputs": []
    },
    {
      "cell_type": "code",
      "metadata": {
        "id": "cIyRZSVKcx-G",
        "colab": {
          "base_uri": "https://localhost:8080/",
          "height": 665
        },
        "outputId": "0585f982-47dd-4b31-e638-f55fed86b92d"
      },
      "source": [
        "model.summary()"
      ],
      "execution_count": null,
      "outputs": [
        {
          "output_type": "stream",
          "text": [
            "Model: \"sequential_1\"\n",
            "_________________________________________________________________\n",
            "Layer (type)                 Output Shape              Param #   \n",
            "=================================================================\n",
            "conv2d_4 (Conv2D)            (None, 32, 32, 32)        896       \n",
            "_________________________________________________________________\n",
            "max_pooling2d_3 (MaxPooling2 (None, 16, 16, 32)        0         \n",
            "_________________________________________________________________\n",
            "dropout_4 (Dropout)          (None, 16, 16, 32)        0         \n",
            "_________________________________________________________________\n",
            "conv2d_5 (Conv2D)            (None, 16, 16, 64)        18496     \n",
            "_________________________________________________________________\n",
            "max_pooling2d_4 (MaxPooling2 (None, 8, 8, 64)          0         \n",
            "_________________________________________________________________\n",
            "dropout_5 (Dropout)          (None, 8, 8, 64)          0         \n",
            "_________________________________________________________________\n",
            "conv2d_6 (Conv2D)            (None, 8, 8, 128)         73856     \n",
            "_________________________________________________________________\n",
            "conv2d_7 (Conv2D)            (None, 8, 8, 128)         147584    \n",
            "_________________________________________________________________\n",
            "max_pooling2d_5 (MaxPooling2 (None, 4, 4, 128)         0         \n",
            "_________________________________________________________________\n",
            "dropout_6 (Dropout)          (None, 4, 4, 128)         0         \n",
            "_________________________________________________________________\n",
            "flatten_1 (Flatten)          (None, 2048)              0         \n",
            "_________________________________________________________________\n",
            "dense_2 (Dense)              (None, 256)               524544    \n",
            "_________________________________________________________________\n",
            "dropout_7 (Dropout)          (None, 256)               0         \n",
            "_________________________________________________________________\n",
            "dense_3 (Dense)              (None, 34)                8738      \n",
            "=================================================================\n",
            "Total params: 774,114\n",
            "Trainable params: 774,114\n",
            "Non-trainable params: 0\n",
            "_________________________________________________________________\n"
          ],
          "name": "stdout"
        }
      ]
    },
    {
      "cell_type": "code",
      "metadata": {
        "id": "A8yp0cHNcx-K"
      },
      "source": [
        "print(\"정확도 : %.4f\" % (model.evaluate(X_test, y_test)[1]))"
      ],
      "execution_count": null,
      "outputs": []
    },
    {
      "cell_type": "code",
      "metadata": {
        "id": "1_-hvq-5cx-M"
      },
      "source": [
        "y_vloss = history.history['val_loss']\n",
        "y_loss = history.history['loss']\n",
        "\n",
        "x_len = np.arange(len(y_loss))\n",
        "\n",
        "plt.plot(x_len, y_vloss, marker='.', c='red', label='val_set_loss')\n",
        "plt.plot(x_len, y_loss, marker='.', c='blue', label='train_set_loss')\n",
        "plt.legend()\n",
        "plt.xlabel('epochs')\n",
        "plt.ylabel('loss')\n",
        "plt.grid()\n",
        "plt.show()"
      ],
      "execution_count": null,
      "outputs": []
    },
    {
      "cell_type": "code",
      "metadata": {
        "id": "Et1tDNAB-J4r"
      },
      "source": [
        "y_vloss = history.history['val_acc']\n",
        "y_loss = history.history['acc']\n",
        "\n",
        "x_len = np.arange(len(y_loss))\n",
        "\n",
        "plt.plot(x_len, y_vloss, marker='.', c='red', label='val_set_loss')\n",
        "plt.plot(x_len, y_loss, marker='.', c='blue', label='train_set_loss')\n",
        "plt.legend()\n",
        "plt.xlabel('epochs')\n",
        "plt.ylabel('acc')\n",
        "plt.grid()\n",
        "plt.show()"
      ],
      "execution_count": null,
      "outputs": []
    },
    {
      "cell_type": "code",
      "metadata": {
        "id": "7X9XI9H1cx-O"
      },
      "source": [
        "from PIL import Image\n",
        "import os, glob, numpy as np\n",
        "from keras.models import load_model\n",
        "\n",
        "\n",
        "caltech_dir = \"/content/drive/My Drive/Colab Notebooks/MIX/bird\"\n",
        "image_w = 32\n",
        "image_h = 32\n",
        "\n",
        "pixels = image_h * image_w * 3\n",
        "\n",
        "X = []\n",
        "filenames = []\n",
        "files = glob.glob(caltech_dir+\"/*.*\")\n",
        "for i, f in enumerate(files):\n",
        "    img = Image.open(f)\n",
        "    img = img.convert(\"RGB\")\n",
        "    img = img.resize((image_w, image_h))\n",
        "    data = np.asarray(img)\n",
        "    filenames.append(f)\n",
        "    X.append(data)\n",
        "\n",
        "X = np.array(X)\n",
        "model = load_model('./model/multi_img_classification.model')\n",
        "\n",
        "prediction = model.predict(X)\n",
        "np.set_printoptions(formatter={'float': lambda x: \"{0:0.3f}\".format(x)})\n",
        "cnt = 0\n",
        "\n",
        "#이 비교는 그냥 파일들이 있으면 해당 파일과 비교. 카테고리와 함께 비교해서 진행하는 것은 _4 파일.\n",
        "for i in prediction:\n",
        "    pre_ans = i.argmax()  # 예측 레이블\n",
        "    print(i)\n",
        "    print(pre_ans)\n",
        "    pre_ans_str = ''\n",
        "    if pre_ans == 0: pre_ans_str = \"AFRICAN FIREFINCH\"\n",
        "    elif pre_ans == 1: pre_ans_str = \"ALBATROSS\"\n",
        "    elif pre_ans == 2: pre_ans_str = \"ALEXANDRINE PARAKEET\"\n",
        "    elif pre_ans == 3: pre_ans_str = \"ALOUATTAPALLIATA\"\n",
        "    elif pre_ans == 4: pre_ans_str = \"AMERICAN AVOCET\"\n",
        "    elif pre_ans == 5: pre_ans_str = \"AMERICAN BITTERN\"\n",
        "    elif pre_ans == 6: pre_ans_str = \"AOTUSNIGRICEPS\"\n",
        "    elif pre_ans == 7: pre_ans_str = \"ASIAN CRESTED IBIS\"\n",
        "    elif pre_ans == 8: pre_ans_str = \"BLACK SWAN\"\n",
        "    elif pre_ans == 9: pre_ans_str = \"BLACK THROATED WARBLER\"\n",
        "    elif pre_ans == 10: pre_ans_str = \"BLACK VULTURE\"\n",
        "    elif pre_ans == 11: pre_ans_str = \"BLACK-CAPPED CHICKADEE\"\n",
        "    elif pre_ans == 12: pre_ans_str = \"BLACK-THROATED SPARROW\"\n",
        "    elif pre_ans == 13: pre_ans_str = \"BLUE HERON\"\n",
        "    elif pre_ans == 14: pre_ans_str = \"BROWN THRASHER\"\n",
        "    elif pre_ans == 15: pre_ans_str = \"CACAJAOCALVUS\"\n",
        "    elif pre_ans == 16: pre_ans_str = \"CEBUELLAPYGMEA\"\n",
        "    elif pre_ans == 17: pre_ans_str = \"CEBUSCAPUCINUS\"\n",
        "    elif pre_ans == 18: pre_ans_str = \"COCK OF THE ROCK\"\n",
        "    elif pre_ans == 19: pre_ans_str = \"COMMON GRACKLE\"\n",
        "    elif pre_ans == 20: pre_ans_str = \"COMMON STARLING\"\n",
        "    elif pre_ans == 21: pre_ans_str = \"COUCHS KINGBIRD\"\n",
        "    elif pre_ans == 22: pre_ans_str = \"ERYTHROCEBUSPATAS\"\n",
        "    elif pre_ans == 23: pre_ans_str = \"FLAMINGO\"\n",
        "    elif pre_ans == 24: pre_ans_str = \"FRIGATE\"\n",
        "    elif pre_ans == 25: pre_ans_str = \"GAMBELS QUAIL\"\n",
        "    elif pre_ans == 26: pre_ans_str = \"GOLD WING WARBLER\"\n",
        "    elif pre_ans == 27: pre_ans_str = \"MACACAFUSCATA\"\n",
        "    elif pre_ans == 28: pre_ans_str = \"MICOARGENTATUS\"\n",
        "    elif pre_ans == 29: pre_ans_str = \"PERSIAN CAT\"\n",
        "    elif pre_ans == 30: pre_ans_str = \"RUSSIAN BLUE\"\n",
        "    elif pre_ans == 31: pre_ans_str = \"SAIMIRISCIUREUS\"\n",
        "    elif pre_ans == 32: pre_ans_str = \"SPHYNX CAT\"\n",
        "    else: pre_ans_str = \"TRACHYPITHECUSJOHNII\"\n",
        "    if i[0] >= 0.8: print(\"해당 \"+filenames[cnt].split(\"/content/drive/My Drive/Colab Notebooks/MIX/bird\")[1]+\"이미지는 \"+pre_ans_str+\"로 추정됩니다.\")\n",
        "    if i[1] >= 0.8: print(\"해당 \"+filenames[cnt].split(\"/content/drive/My Drive/Colab Notebooks/MIX/bird\")[1]+\"이미지는 \"+pre_ans_str+\"로 추정됩니다.\")\n",
        "    if i[2] >= 0.8: print(\"해당 \"+filenames[cnt].split(\"/content/drive/My Drive/Colab Notebooks/MIX/bird\")[1]+\"이미지는 \"+pre_ans_str+\"로 추정됩니다.\")\n",
        "    if i[3] >= 0.8: print(\"해당 \"+filenames[cnt].split(\"/content/drive/My Drive/Colab Notebooks/MIX/bird\")[1]+\"이미지는 \"+pre_ans_str+\"로 추정됩니다.\")\n",
        "    if i[4] >= 0.8: print(\"해당 \"+filenames[cnt].split(\"/content/drive/My Drive/Colab Notebooks/MIX/bird\")[1]+\"이미지는 \"+pre_ans_str+\"로 추정됩니다.\")\n",
        "    if i[5] >= 0.8: print(\"해당 \"+filenames[cnt].split(\"/content/drive/My Drive/Colab Notebooks/MIX/bird\")[1]+\"이미지는 \"+pre_ans_str+\"로 추정됩니다.\")\n",
        "    if i[6] >= 0.8: print(\"해당 \"+filenames[cnt].split(\"/content/drive/My Drive/Colab Notebooks/MIX/bird\")[1]+\"이미지는 \"+pre_ans_str+\"로 추정됩니다.\")\n",
        "    if i[7] >= 0.8: print(\"해당 \"+filenames[cnt].split(\"/content/drive/My Drive/Colab Notebooks/MIX/bird\")[1]+\"이미지는 \"+pre_ans_str+\"로 추정됩니다.\")\n",
        "    if i[8] >= 0.8: print(\"해당 \"+filenames[cnt].split(\"/content/drive/My Drive/Colab Notebooks/MIX/bird\")[1]+\"이미지는 \"+pre_ans_str+\"로 추정됩니다.\")\n",
        "    if i[9] >= 0.8: print(\"해당 \"+filenames[cnt].split(\"/content/drive/My Drive/Colab Notebooks/MIX/bird\")[1]+\"이미지는 \"+pre_ans_str+\"로 추정됩니다.\")\n",
        "    if i[10] >= 0.8: print(\"해당 \"+filenames[cnt].split(\"/content/drive/My Drive/Colab Notebooks/MIX/bird\")[1]+\"이미지는 \"+pre_ans_str+\"로 추정됩니다.\")\n",
        "    if i[11] >= 0.8: print(\"해당 \"+filenames[cnt].split(\"/content/drive/My Drive/Colab Notebooks/MIX/bird\")[1]+\"이미지는 \"+pre_ans_str+\"로 추정됩니다.\")\n",
        "    if i[12] >= 0.8: print(\"해당 \"+filenames[cnt].split(\"/content/drive/My Drive/Colab Notebooks/MIX/bird\")[1]+\"이미지는 \"+pre_ans_str+\"로 추정됩니다.\")\n",
        "    if i[13] >= 0.8: print(\"해당 \"+filenames[cnt].split(\"/content/drive/My Drive/Colab Notebooks/MIX/bird\")[1]+\"이미지는 \"+pre_ans_str+\"로 추정됩니다.\")\n",
        "    if i[14] >= 0.8: print(\"해당 \"+filenames[cnt].split(\"/content/drive/My Drive/Colab Notebooks/MIX/bird\")[1]+\"이미지는 \"+pre_ans_str+\"로 추정됩니다.\")\n",
        "    if i[15] >= 0.8: print(\"해당 \"+filenames[cnt].split(\"/content/drive/My Drive/Colab Notebooks/MIX/bird\")[1]+\"이미지는 \"+pre_ans_str+\"로 추정됩니다.\")\n",
        "    if i[16] >= 0.8: print(\"해당 \"+filenames[cnt].split(\"/content/drive/My Drive/Colab Notebooks/MIX/bird\")[1]+\"이미지는 \"+pre_ans_str+\"로 추정됩니다.\")\n",
        "    if i[17] >= 0.8: print(\"해당 \"+filenames[cnt].split(\"/content/drive/My Drive/Colab Notebooks/MIX/bird\")[1]+\"이미지는 \"+pre_ans_str+\"로 추정됩니다.\")\n",
        "    if i[18] >= 0.8: print(\"해당 \"+filenames[cnt].split(\"/content/drive/My Drive/Colab Notebooks/MIX/bird\")[1]+\"이미지는 \"+pre_ans_str+\"로 추정됩니다.\")\n",
        "    if i[19] >= 0.8: print(\"해당 \"+filenames[cnt].split(\"/content/drive/My Drive/Colab Notebooks/MIX/bird\")[1]+\"이미지는 \"+pre_ans_str+\"로 추정됩니다.\")\n",
        "    if i[20] >= 0.8: print(\"해당 \"+filenames[cnt].split(\"/content/drive/My Drive/Colab Notebooks/MIX/bird\")[1]+\"이미지는 \"+pre_ans_str+\"로 추정됩니다.\")\n",
        "    if i[21] >= 0.8: print(\"해당 \"+filenames[cnt].split(\"/content/drive/My Drive/Colab Notebooks/MIX/bird\")[1]+\"이미지는 \"+pre_ans_str+\"로 추정됩니다.\")\n",
        "    if i[22] >= 0.8: print(\"해당 \"+filenames[cnt].split(\"/content/drive/My Drive/Colab Notebooks/MIX/bird\")[1]+\"이미지는 \"+pre_ans_str+\"로 추정됩니다.\")\n",
        "    if i[23] >= 0.8: print(\"해당 \"+filenames[cnt].split(\"/content/drive/My Drive/Colab Notebooks/MIX/bird\")[1]+\"이미지는 \"+pre_ans_str+\"로 추정됩니다.\")\n",
        "    if i[24] >= 0.8: print(\"해당 \"+filenames[cnt].split(\"/content/drive/My Drive/Colab Notebooks/MIX/bird\")[1]+\"이미지는 \"+pre_ans_str+\"로 추정됩니다.\")\n",
        "    if i[25] >= 0.8: print(\"해당 \"+filenames[cnt].split(\"/content/drive/My Drive/Colab Notebooks/MIX/bird\")[1]+\"이미지는 \"+pre_ans_str+\"로 추정됩니다.\")\n",
        "    if i[26] >= 0.8: print(\"해당 \"+filenames[cnt].split(\"/content/drive/My Drive/Colab Notebooks/MIX/bird\")[1]+\"이미지는 \"+pre_ans_str+\"로 추정됩니다.\")\n",
        "    if i[27] >= 0.8: print(\"해당 \"+filenames[cnt].split(\"/content/drive/My Drive/Colab Notebooks/MIX/bird\")[1]+\"이미지는 \"+pre_ans_str+\"로 추정됩니다.\")\n",
        "    if i[28] >= 0.8: print(\"해당 \"+filenames[cnt].split(\"/content/drive/My Drive/Colab Notebooks/MIX/bird\")[1]+\"이미지는 \"+pre_ans_str+\"로 추정됩니다.\")\n",
        "    if i[29] >= 0.8: print(\"해당 \"+filenames[cnt].split(\"/content/drive/My Drive/Colab Notebooks/MIX/bird\")[1]+\"이미지는 \"+pre_ans_str+\"로 추정됩니다.\")\n",
        "    if i[30] >= 0.8: print(\"해당 \"+filenames[cnt].split(\"/content/drive/My Drive/Colab Notebooks/MIX/bird\")[1]+\"이미지는 \"+pre_ans_str+\"로 추정됩니다.\")\n",
        "    if i[31] >= 0.8: print(\"해당 \"+filenames[cnt].split(\"/content/drive/My Drive/Colab Notebooks/MIX/bird\")[1]+\"이미지는 \"+pre_ans_str+\"로 추정됩니다.\")\n",
        "    if i[32] >= 0.8: print(\"해당 \"+filenames[cnt].split(\"/content/drive/My Drive/Colab Notebooks/MIX/bird\")[1]+\"이미지는 \"+pre_ans_str+\"로 추정됩니다.\")\n",
        "    if i[33] >= 0.8: print(\"해당 \"+filenames[cnt].split(\"/content/drive/My Drive/Colab Notebooks/MIX/bird\")[1]+\"이미지는 \"+pre_ans_str+\"로 추정됩니다.\")\n",
        "\n",
        "    cnt += 1\n",
        "    # print(i.argmax()) #얘가 레이블 [1. 0. 0.] 이런식으로 되어 있는 것을 숫자로 바꿔주는 것.\n",
        "    # 즉 얘랑, 나중에 카테고리 데이터 불러와서 카테고리랑 비교를 해서 같으면 맞는거고, 아니면 틀린거로 취급하면 된다.\n",
        "    # 이걸 한 것은 _4.py에.\n"
      ],
      "execution_count": null,
      "outputs": []
    },
    {
      "cell_type": "code",
      "metadata": {
        "id": "QiEseEwYcx-Q"
      },
      "source": [
        ""
      ],
      "execution_count": null,
      "outputs": []
    }
  ]
}